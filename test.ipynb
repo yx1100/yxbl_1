{
 "cells": [
  {
   "cell_type": "code",
   "execution_count": null,
   "metadata": {},
   "outputs": [],
   "source": [
    "print(\"Hello\")"
   ]
  },
  {
   "cell_type": "code",
   "execution_count": null,
   "metadata": {},
   "outputs": [],
   "source": [
    "import torch\n",
    "x = torch.rand(5, 3)\n",
    "print(x)"
   ]
  },
  {
   "cell_type": "code",
   "execution_count": null,
   "metadata": {},
   "outputs": [],
   "source": [
    "import src.utils.llm_client as LLM\n",
    "\n",
    "# 创建客户端\n",
    "llm_client = LLM.LLMClient(use_qwen=True)\n",
    "\n",
    "# 使用角色特定提示词\n",
    "werewolf_prompt = llm_client.get_role_prompt(\"werewolf\")\n",
    "\n",
    "# 构建消息\n",
    "messages = [\n",
    "    {\"role\": \"system\", \"content\": werewolf_prompt},\n",
    "    {\"role\": \"user\", \"content\": \"现在是白天讨论阶段，7号玩家指认你是狼人，你该如何回应？\"}\n",
    "]\n",
    "\n",
    "# 获取回复\n",
    "response = llm_client.get_response(messages)\n",
    "if response[\"success\"]:\n",
    "    print(response[\"content\"])\n",
    "else:\n",
    "    print(response[\"error\"])"
   ]
  },
  {
   "cell_type": "code",
   "execution_count": null,
   "metadata": {},
   "outputs": [],
   "source": [
    "import src.utils.llm_client as LLM\n",
    "\n",
    "agent = LLM.LLMClient(system_message=\"你是一名狼人杀游戏中的玩家。你的角色是一名狼人。\")\n",
    "\n",
    "messages = agent.messages\n",
    "print(messages)\n",
    "\n",
    "response = agent.get_response(input_messages=messages)\n",
    "if response[\"success\"]:\n",
    "    print(response[\"content\"])\n",
    "else:\n",
    "    print(response[\"error\"])"
   ]
  },
  {
   "cell_type": "code",
   "execution_count": null,
   "metadata": {},
   "outputs": [],
   "source": [
    "from src.roles.doctor import Doctor\n",
    "\n",
    "print(Doctor().use_ability())"
   ]
  },
  {
   "cell_type": "code",
   "execution_count": null,
   "metadata": {},
   "outputs": [],
   "source": [
    "from src.roles.doctor import Doctor\n",
    "\n",
    "print(Doctor('player_1').get_role_prompt())"
   ]
  },
  {
   "cell_type": "code",
   "execution_count": null,
   "metadata": {},
   "outputs": [],
   "source": [
    "from src.environment.game_manager import GameManager\n",
    "\n",
    "a, b, c, agents = GameManager().setup_game()\n",
    "for agent in agents:\n",
    "        print(\n",
    "            f\"Player ID: {agent.player_id}, Role: {agent.role}, Faction: {agent.faction}, is_alive: {agent.is_alive}, Human/AI: {agent.human_or_ai}\")"
   ]
  },
  {
   "cell_type": "code",
   "execution_count": null,
   "metadata": {},
   "outputs": [
    {
     "name": "stdout",
     "output_type": "stream",
     "text": [
      "['villager', 'seer', 'villager', 'werewolf', 'werewolf', 'doctor']\n",
      "['ID_1', 'ID_2', 'ID_3', 'ID_4', 'ID_5', 'ID_6']\n",
      "\n",
      "==== 夜晚降临 ====\n",
      "两个狼人\n",
      "一个医生\n"
     ]
    },
    {
     "ename": "ValueError",
     "evalue": "list.remove(x): x not in list",
     "output_type": "error",
     "traceback": [
      "\u001b[0;31m---------------------------------------------------------------------------\u001b[0m",
      "\u001b[0;31mValueError\u001b[0m                                Traceback (most recent call last)",
      "Cell \u001b[0;32mIn[1], line 14\u001b[0m\n\u001b[1;32m     11\u001b[0m \u001b[38;5;28mprint\u001b[39m(alive_players_id)\n\u001b[1;32m     13\u001b[0m phase \u001b[38;5;241m=\u001b[39m game_state\u001b[38;5;241m.\u001b[39mphase\n\u001b[0;32m---> 14\u001b[0m \u001b[43mgame_manager\u001b[49m\u001b[38;5;241;43m.\u001b[39;49m\u001b[43mrun_phase\u001b[49m\u001b[43m(\u001b[49m\u001b[43m)\u001b[49m\n",
      "File \u001b[0;32m~/Developer/GitHub/yxbl_1/src/environment/game_manager.py:69\u001b[0m, in \u001b[0;36mGameManager.run_phase\u001b[0;34m(self)\u001b[0m\n\u001b[1;32m     67\u001b[0m \u001b[38;5;66;03m# 执行当前阶段的逻辑\u001b[39;00m\n\u001b[1;32m     68\u001b[0m \u001b[38;5;28;01mif\u001b[39;00m current_phase \u001b[38;5;241m==\u001b[39m \u001b[38;5;124m\"\u001b[39m\u001b[38;5;124mNIGHT\u001b[39m\u001b[38;5;124m\"\u001b[39m:\n\u001b[0;32m---> 69\u001b[0m     \u001b[38;5;28;43mself\u001b[39;49m\u001b[38;5;241;43m.\u001b[39;49m\u001b[43mnight_phase\u001b[49m\u001b[43m(\u001b[49m\u001b[43m)\u001b[49m\n\u001b[1;32m     70\u001b[0m \u001b[38;5;28;01melif\u001b[39;00m current_phase \u001b[38;5;241m==\u001b[39m \u001b[38;5;124m\"\u001b[39m\u001b[38;5;124mDAY\u001b[39m\u001b[38;5;124m\"\u001b[39m:\n\u001b[1;32m     71\u001b[0m     \u001b[38;5;28mself\u001b[39m\u001b[38;5;241m.\u001b[39mday_phase()\n",
      "File \u001b[0;32m~/Developer/GitHub/yxbl_1/src/environment/game_manager.py:121\u001b[0m, in \u001b[0;36mGameManager.night_phase\u001b[0;34m(self)\u001b[0m\n\u001b[1;32m    119\u001b[0m     \u001b[38;5;28mself\u001b[39m\u001b[38;5;241m.\u001b[39mkill_player \u001b[38;5;241m=\u001b[39m \u001b[38;5;28;01mNone\u001b[39;00m\n\u001b[1;32m    120\u001b[0m \u001b[38;5;28;01melse\u001b[39;00m:\n\u001b[0;32m--> 121\u001b[0m     \u001b[38;5;28;43mself\u001b[39;49m\u001b[38;5;241;43m.\u001b[39;49m\u001b[43mgame_state\u001b[49m\u001b[38;5;241;43m.\u001b[39;49m\u001b[43malive_players\u001b[49m\u001b[38;5;241;43m.\u001b[39;49m\u001b[43mremove\u001b[49m\u001b[43m(\u001b[49m\u001b[38;5;28;43mself\u001b[39;49m\u001b[38;5;241;43m.\u001b[39;49m\u001b[43mkill_player\u001b[49m\u001b[43m)\u001b[49m \u001b[38;5;66;03m# 从存活玩家列表中移除被杀玩家\u001b[39;00m\n\u001b[1;32m    122\u001b[0m \u001b[38;5;28mself\u001b[39m\u001b[38;5;241m.\u001b[39msave_player \u001b[38;5;241m=\u001b[39m \u001b[38;5;28;01mNone\u001b[39;00m\n\u001b[1;32m    124\u001b[0m \u001b[38;5;66;03m# 预言家阶段\u001b[39;00m\n",
      "\u001b[0;31mValueError\u001b[0m: list.remove(x): x not in list"
     ]
    }
   ],
   "source": [
    "from src.environment.game_state import GameState\n",
    "from src.environment.game_manager import GameManager\n",
    "\n",
    "game_manager = GameManager()\n",
    "agents = game_manager.setup_game()\n",
    "game_state = GameState(agents)\n",
    "\n",
    "alive_players_id = game_state.get_alive_players_id()\n",
    "alive_players_role = game_state.get_alive_players_role()\n",
    "\n",
    "print(alive_players_role)\n",
    "print(alive_players_id)\n",
    "\n",
    "phase = game_state.phase\n",
    "game_manager.run_phase()\n",
    "\n",
    "\n",
    "\n",
    "\n"
   ]
  }
 ],
 "metadata": {
  "kernelspec": {
   "display_name": "yxbl_1",
   "language": "python",
   "name": "python3"
  },
  "language_info": {
   "codemirror_mode": {
    "name": "ipython",
    "version": 3
   },
   "file_extension": ".py",
   "mimetype": "text/x-python",
   "name": "python",
   "nbconvert_exporter": "python",
   "pygments_lexer": "ipython3",
   "version": "3.11.11"
  }
 },
 "nbformat": 4,
 "nbformat_minor": 2
}
