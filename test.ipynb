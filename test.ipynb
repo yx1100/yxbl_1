{
 "cells": [
  {
   "cell_type": "code",
   "execution_count": null,
   "metadata": {},
   "outputs": [],
   "source": [
    "print(\"Hello\")"
   ]
  },
  {
   "cell_type": "code",
   "execution_count": null,
   "metadata": {},
   "outputs": [],
   "source": [
    "import torch\n",
    "x = torch.rand(5, 3)\n",
    "print(x)"
   ]
  },
  {
   "cell_type": "code",
   "execution_count": null,
   "metadata": {},
   "outputs": [],
   "source": [
    "import src.utils.llm_client as LLM\n",
    "\n",
    "# 创建客户端\n",
    "llm_client = LLM.LLMClient(use_qwen=True)\n",
    "\n",
    "# 使用角色特定提示词\n",
    "werewolf_prompt = llm_client.get_role_prompt(\"werewolf\")\n",
    "\n",
    "# 构建消息\n",
    "messages = [\n",
    "    {\"role\": \"system\", \"content\": werewolf_prompt},\n",
    "    {\"role\": \"user\", \"content\": \"现在是白天讨论阶段，7号玩家指认你是狼人，你该如何回应？\"}\n",
    "]\n",
    "\n",
    "# 获取回复\n",
    "response = llm_client.get_response(messages)\n",
    "if response[\"success\"]:\n",
    "    print(response[\"content\"])\n",
    "else:\n",
    "    print(response[\"error\"])"
   ]
  },
  {
   "cell_type": "code",
   "execution_count": null,
   "metadata": {},
   "outputs": [],
   "source": [
    "import src.utils.llm_client as LLM\n",
    "\n",
    "agent = LLM.LLMClient(system_message=\"你是一名狼人杀游戏中的玩家。你的角色是一名狼人。\")\n",
    "\n",
    "messages = agent.messages\n",
    "print(messages)\n",
    "\n",
    "response = agent.get_response(input_messages=messages)\n",
    "if response[\"success\"]:\n",
    "    print(response[\"content\"])\n",
    "else:\n",
    "    print(response[\"error\"])"
   ]
  },
  {
   "cell_type": "code",
   "execution_count": null,
   "metadata": {},
   "outputs": [],
   "source": [
    "from src.roles.doctor import Doctor\n",
    "\n",
    "print(Doctor().use_ability())"
   ]
  },
  {
   "cell_type": "code",
   "execution_count": null,
   "metadata": {},
   "outputs": [],
   "source": [
    "from src.roles.doctor import Doctor\n",
    "\n",
    "print(Doctor('player_1').get_role_prompt())"
   ]
  },
  {
   "cell_type": "code",
   "execution_count": null,
   "metadata": {},
   "outputs": [],
   "source": [
    "from src.environment.game_manager import GameManager\n",
    "\n",
    "a, b, c, agents = GameManager().setup_game()\n",
    "for agent in agents:\n",
    "        print(\n",
    "            f\"Player ID: {agent.player_id}, Role: {agent.role}, Faction: {agent.faction}, is_alive: {agent.is_alive}, Human/AI: {agent.human_or_ai}\")"
   ]
  },
  {
   "cell_type": "code",
   "execution_count": 1,
   "metadata": {},
   "outputs": [
    {
     "name": "stdout",
     "output_type": "stream",
     "text": [
      "['ID_1', 'ID_2', 'ID_3', 'ID_4', 'ID_5', 'ID_6']\n",
      "['villager', 'doctor', 'werewolf', 'villager', 'werewolf', 'seer']\n",
      "\n",
      "==== 夜晚降临 ====\n",
      "存活玩家： ['ID_1', 'ID_2', 'ID_3', 'ID_4', 'ID_5', 'ID_6']\n",
      "狼人玩家: ['ID_3', 'ID_5']\n",
      "两个狼人\n",
      "狼人1: [{'role': 'system', 'content': '你是玩家 ID_3，\\n你的角色是狼人。\\n每到夜晚阶段，当到你（狼人）的回合时，在场还存活着的狼人将被唤醒，接着狼人们可以达成共识选择杀害任意一名还存活的玩家（包括狼人自己）。\\n如果在场仅剩下一名狼人，这名狼人是你的话，那么你（狼人）将选择杀害任意一名还存活的玩家（包括你自己）。\\n当狼人阵营选定受害者后，接着你的回合就结束了，你将会再次进入睡眠状态，等待天亮。\\n等待天亮后，你将会被唤醒，接着你可以参与讨论。\\n夜晚阶段被杀害的玩家将会被宣布。\\n        '}]\n",
      "狼人2: [{'role': 'system', 'content': '你是玩家 ID_5，\\n你的角色是狼人。\\n每到夜晚阶段，当到你（狼人）的回合时，在场还存活着的狼人将被唤醒，接着狼人们可以达成共识选择杀害任意一名还存活的玩家（包括狼人自己）。\\n如果在场仅剩下一名狼人，这名狼人是你的话，那么你（狼人）将选择杀害任意一名还存活的玩家（包括你自己）。\\n当狼人阵营选定受害者后，接着你的回合就结束了，你将会再次进入睡眠状态，等待天亮。\\n等待天亮后，你将会被唤醒，接着你可以参与讨论。\\n夜晚阶段被杀害的玩家将会被宣布。\\n        '}]\n",
      "狼人1的回复: 天黑请闭眼，现在是夜晚阶段。作为狼人ID_3，我感受到了同伴们的苏醒。让我们开始选择今晚的目标。我建议先观察一下白天的讨论，找出那些最有可能发现我们身份的人，或者是对村庄威胁最大的角色。大家有没有什么想法?我们可以互相传递信息来达成一致。如果有必要，我愿意为了团队利益牺牲自己。请说出你的意见，我的同伴们。\n",
      "狼人2的回复: 天黑请闭眼，狼人们醒来。我是ID_5，我感受到体内狼人的冲动。现在我们需要商量今晚的目标。大家有没有注意到谁在白天表现得像村民或者猎人？我们要谨慎选择，避免误杀同伴。如果有人白天发言过于正义凛然，那很可能就是村民或猎人。说出你们的想法，我们一起决定今晚行动的目标。让我们除掉一个威胁，为胜利靠近一步。记住，团结就是我们的力量。\n",
      "一个医生\n",
      "医生: [{'role': 'system', 'content': '你是玩家 ID_2，\\n你的角色是医生。\\n每到夜晚阶段，当到你（医生）的回合时，你将被唤醒，接着你可以选择任意一名还存活的玩家（包括自己）进行救治。\\n如果你选择的救治目标，同时是今夜狼人的猎杀目标，那么这名玩家将会幸存下来，即不会被狼人杀死。\\n如果你选择的救治目标，不是狼人的猎杀目标，那么你的救治将会无效。\\n如果你选择的救治目标，是自杀的狼人，那么你将会救活狼人。\\n结束你的选择后，你的回合就结束了，你将会再次进入睡眠状态，等待天亮。\\n等待天亮后，你将会被唤醒，接着你可以参与讨论。\\n若这一夜中有人被医生救活，还存活的玩家将在白天开始时被告知：“有人得救了。\\n        '}]\n",
      "一个预言家\n",
      "预言家: [{'role': 'system', 'content': '你是玩家 ID_6，\\n你的角色是预言家。\\n每到夜晚阶段，当到你（预言家）的回合时，你将被唤醒，接着你可以选择任意一名还存活的玩家（除了自己）进行身份查验。\\n如果你选择的查验目标是狼人，即非村民阵营角色，那么你将会得知这名玩家的角色属于狼人阵营。\\n如果你选择的查验目标不是狼人，即非狼人阵营角色，那么你将会得知这名玩家的角色属于村民阵营。\\n结束你的查验后，你（预言家）掌握了可以用来说服村民的信息，接着你的回合就结束了，你将会再次进入睡眠状态，等待天亮。\\n等待天亮后，你将会被唤醒，接着你可以参与讨论。\\n        '}]\n",
      "被杀玩家： ID_1\n",
      "被救玩家： ID_2\n",
      "被查玩家： ID_3\n",
      "存活玩家： ['ID_2', 'ID_3', 'ID_4', 'ID_5', 'ID_6']\n",
      "存活玩家角色： ['doctor', 'werewolf', 'villager', 'werewolf', 'seer']\n",
      "\n",
      "==== 游戏结束 ====\n",
      "游戏平局!\n"
     ]
    },
    {
     "data": {
      "text/plain": [
       "'DAY'"
      ]
     },
     "execution_count": 1,
     "metadata": {},
     "output_type": "execute_result"
    }
   ],
   "source": [
    "from src.environment.game_state import GameState\n",
    "from src.environment.game_manager import GameManager\n",
    "\n",
    "game_manager = GameManager()\n",
    "agents = game_manager.setup_game()\n",
    "game_state = GameState(agents)\n",
    "\n",
    "alive_players_id = game_state.get_alive_players_id()\n",
    "alive_players_role = game_state.get_alive_players_role()\n",
    "\n",
    "print(alive_players_id)\n",
    "print(alive_players_role)\n",
    "\n",
    "\n",
    "phase = game_state.phase\n",
    "game_manager.run_phase()\n"
   ]
  }
 ],
 "metadata": {
  "kernelspec": {
   "display_name": "yxbl_1",
   "language": "python",
   "name": "python3"
  },
  "language_info": {
   "codemirror_mode": {
    "name": "ipython",
    "version": 3
   },
   "file_extension": ".py",
   "mimetype": "text/x-python",
   "name": "python",
   "nbconvert_exporter": "python",
   "pygments_lexer": "ipython3",
   "version": "3.11.11"
  }
 },
 "nbformat": 4,
 "nbformat_minor": 2
}
