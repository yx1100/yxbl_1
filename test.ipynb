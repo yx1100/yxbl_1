{
 "cells": [
  {
   "cell_type": "code",
   "execution_count": 1,
   "metadata": {},
   "outputs": [
    {
     "name": "stdout",
     "output_type": "stream",
     "text": [
      "Hello\n"
     ]
    }
   ],
   "source": [
    "print(\"Hello\")"
   ]
  },
  {
   "cell_type": "code",
   "execution_count": 1,
   "metadata": {},
   "outputs": [
    {
     "name": "stdout",
     "output_type": "stream",
     "text": [
      "tensor([[0.4400, 0.5001, 0.3531],\n",
      "        [0.0458, 0.9881, 0.1381],\n",
      "        [0.3461, 0.9433, 0.4202],\n",
      "        [0.2669, 0.9595, 0.0467],\n",
      "        [0.5776, 0.5343, 0.1769]])\n"
     ]
    }
   ],
   "source": [
    "import torch\n",
    "x = torch.rand(5, 3)\n",
    "print(x)"
   ]
  },
  {
   "cell_type": "code",
   "execution_count": 1,
   "metadata": {},
   "outputs": [
    {
     "name": "stdout",
     "output_type": "stream",
     "text": [
      "哎呀，7号玩家这样说可真是冤枉我了。我一直都在努力找寻狼人的踪迹，你看我昨晚还在和大家分析局势呢。我和7号其实关系不错，他这样指认我让我很心寒。他是不是有什么误会，或者这是在转移大家的注意力呢？咱们得冷静分析，不能因为这样的指认就乱了阵脚，我觉得大家应该好好查证后再做决定。\n"
     ]
    }
   ],
   "source": [
    "import src.utils.llm_client as LLM\n",
    "\n",
    "# 创建客户端\n",
    "llm_client = LLM.LLMClient(use_qwen=True)\n",
    "\n",
    "# 使用角色特定提示词\n",
    "werewolf_prompt = llm_client.get_role_prompt(\"werewolf\")\n",
    "\n",
    "# 构建消息\n",
    "messages = [\n",
    "    {\"role\": \"system\", \"content\": werewolf_prompt},\n",
    "    {\"role\": \"user\", \"content\": \"现在是白天讨论阶段，7号玩家指认你是狼人，你该如何回应？\"}\n",
    "]\n",
    "\n",
    "# 获取回复\n",
    "response = llm_client.get_response(messages)\n",
    "if response[\"success\"]:\n",
    "    print(response[\"content\"])\n",
    "else:\n",
    "    print(response[\"error\"])"
   ]
  }
 ],
 "metadata": {
  "kernelspec": {
   "display_name": "yxbl_1",
   "language": "python",
   "name": "python3"
  },
  "language_info": {
   "codemirror_mode": {
    "name": "ipython",
    "version": 3
   },
   "file_extension": ".py",
   "mimetype": "text/x-python",
   "name": "python",
   "nbconvert_exporter": "python",
   "pygments_lexer": "ipython3",
   "version": "3.11.11"
  }
 },
 "nbformat": 4,
 "nbformat_minor": 2
}
