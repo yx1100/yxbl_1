{
 "cells": [
  {
   "cell_type": "code",
   "execution_count": null,
   "metadata": {},
   "outputs": [],
   "source": [
    "print(\"Hello\")"
   ]
  },
  {
   "cell_type": "code",
   "execution_count": null,
   "metadata": {},
   "outputs": [],
   "source": [
    "import torch\n",
    "x = torch.rand(5, 3)\n",
    "print(x)"
   ]
  },
  {
   "cell_type": "code",
   "execution_count": null,
   "metadata": {},
   "outputs": [],
   "source": [
    "import src.utils.llm_client as LLM\n",
    "\n",
    "# 创建客户端\n",
    "llm_client = LLM.LLMClient(use_qwen=True)\n",
    "\n",
    "# 使用角色特定提示词\n",
    "werewolf_prompt = llm_client.get_role_prompt(\"werewolf\")\n",
    "\n",
    "# 构建消息\n",
    "messages = [\n",
    "    {\"role\": \"system\", \"content\": werewolf_prompt},\n",
    "    {\"role\": \"user\", \"content\": \"现在是白天讨论阶段，7号玩家指认你是狼人，你该如何回应？\"}\n",
    "]\n",
    "\n",
    "# 获取回复\n",
    "response = llm_client.get_response(messages)\n",
    "if response[\"success\"]:\n",
    "    print(response[\"content\"])\n",
    "else:\n",
    "    print(response[\"error\"])"
   ]
  },
  {
   "cell_type": "code",
   "execution_count": null,
   "metadata": {},
   "outputs": [],
   "source": [
    "import src.utils.llm_client as LLM\n",
    "\n",
    "agent = LLM.LLMClient(system_message=\"你是一名狼人杀游戏中的玩家。你的角色是一名狼人。\")\n",
    "\n",
    "messages = agent.messages\n",
    "print(messages)\n",
    "\n",
    "response = agent.get_response(input_messages=messages)\n",
    "if response[\"success\"]:\n",
    "    print(response[\"content\"])\n",
    "else:\n",
    "    print(response[\"error\"])"
   ]
  },
  {
   "cell_type": "code",
   "execution_count": null,
   "metadata": {},
   "outputs": [],
   "source": [
    "from src.roles.doctor import Doctor\n",
    "\n",
    "print(Doctor().use_ability())"
   ]
  },
  {
   "cell_type": "code",
   "execution_count": null,
   "metadata": {},
   "outputs": [],
   "source": [
    "from src.roles.doctor import Doctor\n",
    "\n",
    "print(Doctor('player_1').get_role_prompt())"
   ]
  },
  {
   "cell_type": "code",
   "execution_count": null,
   "metadata": {},
   "outputs": [],
   "source": [
    "from src.environment.game_manager import GameManager\n",
    "\n",
    "a, b, c, agents = GameManager().setup_game()\n",
    "for agent in agents:\n",
    "        print(\n",
    "            f\"Player ID: {agent.player_id}, Role: {agent.role}, Faction: {agent.faction}, is_alive: {agent.is_alive}, Human/AI: {agent.human_or_ai}\")"
   ]
  },
  {
   "cell_type": "code",
   "execution_count": 3,
   "metadata": {},
   "outputs": [
    {
     "name": "stdout",
     "output_type": "stream",
     "text": [
      "\n",
      "==== 夜晚降临 ====\n",
      "存活玩家： [<src.agents.llm_agent.LLMAgent object at 0x1063eb190>, <src.agents.llm_agent.LLMAgent object at 0x120120a50>, <src.agents.llm_agent.LLMAgent object at 0x120139390>, <src.agents.llm_agent.LLMAgent object at 0x12012cd50>, <src.agents.llm_agent.LLMAgent object at 0x120142150>, <src.agents.llm_agent.LLMAgent object at 0x12014a9d0>]\n",
      "存活玩家角色： ['villager', 'werewolf', 'villager', 'werewolf', 'seer', 'doctor']\n"
     ]
    }
   ],
   "source": [
    "from src.environment.game_state import GameState\n",
    "from src.environment.game_manager import GameManager\n",
    "\n",
    "game_manager = GameManager()\n",
    "game_manager.setup_game()\n",
    "\n",
    "agents = game_manager.game_agents\n",
    "\n",
    "a = GameState(agents).get_alive_players()\n",
    "\n",
    "game_manager.night_phase()\n",
    "\n"
   ]
  }
 ],
 "metadata": {
  "kernelspec": {
   "display_name": "yxbl_1",
   "language": "python",
   "name": "python3"
  },
  "language_info": {
   "codemirror_mode": {
    "name": "ipython",
    "version": 3
   },
   "file_extension": ".py",
   "mimetype": "text/x-python",
   "name": "python",
   "nbconvert_exporter": "python",
   "pygments_lexer": "ipython3",
   "version": "3.11.11"
  }
 },
 "nbformat": 4,
 "nbformat_minor": 2
}
