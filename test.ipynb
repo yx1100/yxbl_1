{
 "cells": [
  {
   "cell_type": "code",
   "execution_count": null,
   "metadata": {},
   "outputs": [],
   "source": [
    "print(\"Hello\")"
   ]
  },
  {
   "cell_type": "code",
   "execution_count": null,
   "metadata": {},
   "outputs": [],
   "source": [
    "import torch\n",
    "x = torch.rand(5, 3)\n",
    "print(x)"
   ]
  },
  {
   "cell_type": "code",
   "execution_count": null,
   "metadata": {},
   "outputs": [],
   "source": [
    "import src.utils.llm_client as LLM\n",
    "\n",
    "# 创建客户端\n",
    "llm_client = LLM.LLMClient(use_qwen=True)\n",
    "\n",
    "# 使用角色特定提示词\n",
    "werewolf_prompt = llm_client.get_role_prompt(\"werewolf\")\n",
    "\n",
    "# 构建消息\n",
    "messages = [\n",
    "    {\"role\": \"system\", \"content\": werewolf_prompt},\n",
    "    {\"role\": \"user\", \"content\": \"现在是白天讨论阶段，7号玩家指认你是狼人，你该如何回应？\"}\n",
    "]\n",
    "\n",
    "# 获取回复\n",
    "response = llm_client.get_response(messages)\n",
    "if response[\"success\"]:\n",
    "    print(response[\"content\"])\n",
    "else:\n",
    "    print(response[\"error\"])"
   ]
  },
  {
   "cell_type": "code",
   "execution_count": 7,
   "metadata": {},
   "outputs": [
    {
     "name": "stdout",
     "output_type": "stream",
     "text": [
      "[{'role': 'system', 'content': '你是一名狼人杀游戏中的玩家。你的角色是一名狼人。'}]\n",
      "我是狼人，我需要和我的同伴一起暗中合作，混淆视听，让村民误杀好人。在白天，我会假装成一个普通村民，积极参与讨论，但也会观察其他玩家的言行举止，找出那些可能是猎人、女巫等关键角色的人。在夜晚，我会悄悄与同伴联系，选择最有利的目标下手。我们要制造混乱，离间村民，才能在这场游戏中获得胜利。\n"
     ]
    }
   ],
   "source": [
    "import src.utils.llm_client as LLM\n",
    "\n",
    "agent = LLM.LLMClient(system_message=\"你是一名狼人杀游戏中的玩家。你的角色是一名狼人。\")\n",
    "\n",
    "messages = agent.messages\n",
    "print(messages)\n",
    "\n",
    "response = agent.get_response(input_messages=messages)\n",
    "if response[\"success\"]:\n",
    "    print(response[\"content\"])\n",
    "else:\n",
    "    print(response[\"error\"])"
   ]
  },
  {
   "cell_type": "code",
   "execution_count": 7,
   "metadata": {},
   "outputs": [
    {
     "name": "stdout",
     "output_type": "stream",
     "text": [
      "\n",
      "        你的角色是医生。\n",
      "        每到夜晚阶段，当到你（医生）的回合时，你将被唤醒，接着你可以选择任意一名还存活的玩家（包括自己）进行救治。\n",
      "        如果你选择的救治目标，同时是今夜狼人的猎杀目标，那么这名玩家将会幸存下来，即不会被狼人杀死。\n",
      "        如果你选择的救治目标，不是狼人的猎杀目标，那么你的救治将会无效。\n",
      "        如果你选择的救治目标，是自杀的狼人，那么你将会救活狼人。\n",
      "        结束你的选择后，你的回合就结束了，你将会再次进入睡眠状态，等待天亮。\n",
      "        若这一夜中有人被医生救活，还存活的玩家将在白天开始时被告知：“有人得救了。\n",
      "        \n"
     ]
    }
   ],
   "source": [
    "from src.roles.doctor import Doctor\n",
    "\n",
    "print(Doctor().use_ability())"
   ]
  }
 ],
 "metadata": {
  "kernelspec": {
   "display_name": "yxbl_1",
   "language": "python",
   "name": "python3"
  },
  "language_info": {
   "codemirror_mode": {
    "name": "ipython",
    "version": 3
   },
   "file_extension": ".py",
   "mimetype": "text/x-python",
   "name": "python",
   "nbconvert_exporter": "python",
   "pygments_lexer": "ipython3",
   "version": "3.11.11"
  }
 },
 "nbformat": 4,
 "nbformat_minor": 2
}
