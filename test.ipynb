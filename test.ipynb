{
 "cells": [
  {
   "cell_type": "code",
   "execution_count": null,
   "metadata": {},
   "outputs": [],
   "source": [
    "from src.environment.game_state import GameState\n",
    "from src.environment.game_manager import GameManager\n",
    "\n",
    "# 游戏初始化\n",
    "game_manager = GameManager()\n",
    "agents = game_manager.setup_game() \n",
    "game_state = GameState(agents)\n",
    "\n",
    "alive_players_id = game_state.get_alive_players_id()\n",
    "alive_players_role = game_state.get_alive_players_role()\n",
    "\n",
    "phase = game_state.phase\n",
    "game_manager.run_phase()\n"
   ]
  },
  {
   "cell_type": "code",
   "execution_count": 2,
   "metadata": {},
   "outputs": [
    {
     "name": "stdout",
     "output_type": "stream",
     "text": [
      "[DAY] ID_1 (Host): 游戏开始了！！！！\n",
      "[NIGHT] ID_4 (Werewolf): 我想杀掉 ID_3 玩家\n",
      "[DAY] ID_1 (Host): 游戏开始了！！！！\n",
      "[NIGHT] ID_4 (Werewolf): 我想杀掉 ID_3 玩家\n",
      "[DAY] ID_1 (Host): 游戏开始了！！！！\n",
      "[NIGHT] ID_4 (Werewolf): 我想杀掉 ID_3 玩家\n"
     ]
    }
   ],
   "source": [
    "from src.utils.messages_manager import MessagesManager, Role, Phase, MessageType\n",
    "\n",
    "# # 创建一个消息管理器实例\n",
    "# messages_manager = MessagesManager()\n",
    "\n",
    "# 可选：指定保存消息的文件路径\n",
    "messages_manager = MessagesManager(file_path=\"game_messages.json\")\n",
    "\n",
    "# 添加一条公开消息（所有人可见）\n",
    "message = messages_manager.add_message(\n",
    "    player_id=\"ID_1\",\n",
    "    role=Role.HOST,\n",
    "    day_count=1,\n",
    "    phase=Phase.DAY,\n",
    "    message_type=MessageType.PUBLIC,\n",
    "    content=\"游戏开始了！！！！\"\n",
    ")\n",
    "\n",
    "# 添加一条私人消息（例如狼人夜间行动）\n",
    "messages_manager.add_message(\n",
    "    player_id=\"ID_4\",\n",
    "    role=Role.WEREWOLF,\n",
    "    day_count=2,\n",
    "    phase=Phase.NIGHT,\n",
    "    message_type=MessageType.PRIVATE,\n",
    "    content=\"我想杀掉 ID_3 玩家\"\n",
    ")\n",
    "\n",
    "all_messages = messages_manager.get_messages()\n",
    "for message in all_messages:\n",
    "    print(f\"[{message.phase.value}] {message.player_id} ({message.role.value}): {message.content}\")"
   ]
  },
  {
   "cell_type": "code",
   "execution_count": null,
   "metadata": {},
   "outputs": [],
   "source": [
    "from src.utils.messages_manager import MessagesManager, Role, Phase, MessageType\n",
    "\n",
    "messages_manager = MessagesManager().load_from_file(file_path=\"/Users/yuxin/Developer/GitHub/yxbl_1/game_messages.json\")\n",
    "\n",
    "print(messages_manager)"
   ]
  },
  {
   "cell_type": "code",
   "execution_count": null,
   "metadata": {},
   "outputs": [],
   "source": [
    "# 测试修改后的Role类\n",
    "from src.roles.role import Role\n",
    "from src.utils.messages_manager import Phase, MessageType\n",
    "\n",
    "# 创建一个基础角色对象\n",
    "test_role = Role(role_name=\"doctor\", player_id=\"ID_5\", messages_file_path=\"test_messages.json\")\n",
    "\n",
    "# 发送一条消息\n",
    "test_role.send_message(\n",
    "    content=\"我要救ID_2\", \n",
    "    day_count=1, \n",
    "    phase=Phase.NIGHT,\n",
    "    message_type=MessageType.PRIVATE\n",
    ")\n",
    "\n",
    "# 获取和过滤消息\n",
    "messages = test_role.get_messages(day_count=1)\n",
    "for msg in messages:\n",
    "    print(f\"[{msg.phase.value}] {msg.player_id} ({msg.role.value}): {msg.content}\")"
   ]
  },
  {
   "cell_type": "code",
   "execution_count": null,
   "metadata": {},
   "outputs": [],
   "source": []
  }
 ],
 "metadata": {
  "kernelspec": {
   "display_name": "yxbl_1",
   "language": "python",
   "name": "python3"
  },
  "language_info": {
   "codemirror_mode": {
    "name": "ipython",
    "version": 3
   },
   "file_extension": ".py",
   "mimetype": "text/x-python",
   "name": "python",
   "nbconvert_exporter": "python",
   "pygments_lexer": "ipython3",
   "version": "3.11.11"
  }
 },
 "nbformat": 4,
 "nbformat_minor": 2
}
