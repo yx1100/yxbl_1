{
 "cells": [
  {
   "cell_type": "code",
   "execution_count": null,
   "metadata": {},
   "outputs": [],
   "source": [
    "from src.environment.game_state import GameState\n",
    "from src.environment.game_manager import GameManager\n",
    "\n",
    "game_manager = GameManager()\n",
    "agents = game_manager.setup_game()\n",
    "game_state = GameState(agents)\n",
    "\n",
    "alive_players_id = game_state.get_alive_players_id()\n",
    "alive_players_role = game_state.get_alive_players_role()\n",
    "\n",
    "print(alive_players_id)\n",
    "print(alive_players_role)\n",
    "\n",
    "\n",
    "phase = game_state.phase\n",
    "game_manager.run_phase()\n"
   ]
  }
 ],
 "metadata": {
  "kernelspec": {
   "display_name": "yxbl_1",
   "language": "python",
   "name": "python3"
  },
  "language_info": {
   "codemirror_mode": {
    "name": "ipython",
    "version": 3
   },
   "file_extension": ".py",
   "mimetype": "text/x-python",
   "name": "python",
   "nbconvert_exporter": "python",
   "pygments_lexer": "ipython3",
   "version": "3.11.11"
  }
 },
 "nbformat": 4,
 "nbformat_minor": 2
}
